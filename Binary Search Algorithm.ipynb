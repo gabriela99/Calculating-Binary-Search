{
 "cells": [
  {
   "cell_type": "markdown",
   "metadata": {},
   "source": [
    "# Binary Search Algorithm"
   ]
  },
  {
   "cell_type": "markdown",
   "metadata": {},
   "source": [
    "The binary search algorithm looks for a number x in a sorted list by splitting the list into halves and keeping the half containing x. This process is repeated recursively until finding x or the closest element in the list. \n",
    "An algorithm's time complexity is often estimated in the worst case senario. For binary search, the worse case is given by the maximum number of steps needed to find an arbitrary number x in a sorted list of size N. \n",
    "At each step the size of the input is divided by two. Therefore, the number of steps is equal to the number of times we can split N by two."
   ]
  },
  {
   "cell_type": "markdown",
   "metadata": {},
   "source": [
    "### Understanding how to calculate binary search complexity\n",
    "https://stackoverflow.com/questions/8185079/how-to-calculate-binary-search-complexity"
   ]
  },
  {
   "cell_type": "markdown",
   "metadata": {},
   "source": [
    "$1 = N/2^x $\n",
    "\n",
    "$2^x = N$\n",
    "\n",
    "$log_2(2^x) = log_2(N)$\n",
    "\n",
    "$x * log_2(2) = log_2(N)$\n",
    "\n",
    "$x * 1 = log_2(N)$\n",
    "\n",
    "$x = log_2(N)$"
   ]
  },
  {
   "cell_type": "markdown",
   "metadata": {},
   "source": [
    "### 1. How many steps does it take to find x in an array with 4, 8, 16, 32 elements?"
   ]
  },
  {
   "cell_type": "code",
   "execution_count": 31,
   "metadata": {},
   "outputs": [],
   "source": [
    "import pandas as pd"
   ]
  },
  {
   "cell_type": "code",
   "execution_count": 32,
   "metadata": {},
   "outputs": [
    {
     "data": {
      "text/html": [
       "<div>\n",
       "<style scoped>\n",
       "    .dataframe tbody tr th:only-of-type {\n",
       "        vertical-align: middle;\n",
       "    }\n",
       "\n",
       "    .dataframe tbody tr th {\n",
       "        vertical-align: top;\n",
       "    }\n",
       "\n",
       "    .dataframe thead th {\n",
       "        text-align: right;\n",
       "    }\n",
       "</style>\n",
       "<table border=\"1\" class=\"dataframe\">\n",
       "  <thead>\n",
       "    <tr style=\"text-align: right;\">\n",
       "      <th></th>\n",
       "      <th>size</th>\n",
       "      <th>steps</th>\n",
       "    </tr>\n",
       "  </thead>\n",
       "  <tbody>\n",
       "    <tr>\n",
       "      <th>0</th>\n",
       "      <td>4</td>\n",
       "      <td>2</td>\n",
       "    </tr>\n",
       "    <tr>\n",
       "      <th>1</th>\n",
       "      <td>8</td>\n",
       "      <td>3</td>\n",
       "    </tr>\n",
       "    <tr>\n",
       "      <th>2</th>\n",
       "      <td>16</td>\n",
       "      <td>4</td>\n",
       "    </tr>\n",
       "    <tr>\n",
       "      <th>3</th>\n",
       "      <td>32</td>\n",
       "      <td>5</td>\n",
       "    </tr>\n",
       "  </tbody>\n",
       "</table>\n",
       "</div>"
      ],
      "text/plain": [
       "   size  steps\n",
       "0     4      2\n",
       "1     8      3\n",
       "2    16      4\n",
       "3    32      5"
      ]
     },
     "execution_count": 32,
     "metadata": {},
     "output_type": "execute_result"
    }
   ],
   "source": [
    "def steps_binary_search(*sizes):\n",
    "    df = []\n",
    "    for size in sizes:\n",
    "        amount = size\n",
    "        steps = 0\n",
    "        while amount > 1:\n",
    "            steps += 1\n",
    "            amount /= 2\n",
    "        df.append([size,steps])\n",
    "    return pd.DataFrame(df, columns=['size','steps'])\n",
    "\n",
    "binary_search = steps_binary_search(4,8,16,32)\n",
    "binary_search"
   ]
  },
  {
   "cell_type": "markdown",
   "metadata": {},
   "source": [
    "### 2. Plot input size vs. step"
   ]
  },
  {
   "cell_type": "code",
   "execution_count": 33,
   "metadata": {},
   "outputs": [],
   "source": [
    "import matplotlib as plt"
   ]
  },
  {
   "cell_type": "code",
   "execution_count": 39,
   "metadata": {},
   "outputs": [
    {
     "data": {
      "image/png": "[encoded data removed]",
      "text/plain": [
       "<Figure size 432x288 with 1 Axes>"
      ]
     },
     "metadata": {
      "needs_background": "light"
     },
     "output_type": "display_data"
    }
   ],
   "source": [
    "binary_search.plot(x='size', y='steps', kind='scatter',color='red');"
   ]
  },
  {
   "cell_type": "markdown",
   "metadata": {},
   "source": [
    "### 3. Do you see any pattern? If so, what kind of pattern do you see?"
   ]
  },
  {
   "cell_type": "markdown",
   "metadata": {},
   "source": [
    "Yes. Although only 4 points appear on this graph, we can clearly see the formation of a typical logarithmic curve. "
   ]
  }
 ],
 "metadata": {
  "kernelspec": {
   "display_name": "productivity",
   "language": "python",
   "name": "productivity"
  },
  "language_info": {
   "codemirror_mode": {
    "name": "ipython",
    "version": 3
   },
   "file_extension": ".py",
   "mimetype": "text/x-python",
   "name": "python",
   "nbconvert_exporter": "python",
   "pygments_lexer": "ipython3",
   "version": "3.7.0"
  }
 },
 "nbformat": 4,
 "nbformat_minor": 2
}
